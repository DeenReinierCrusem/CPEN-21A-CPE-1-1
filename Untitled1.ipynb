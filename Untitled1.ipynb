{
  "nbformat": 4,
  "nbformat_minor": 0,
  "metadata": {
    "colab": {
      "name": "Untitled1.ipynb",
      "provenance": [],
      "authorship_tag": "ABX9TyMw4kLpMwZX/hHapmzUk7MI",
      "include_colab_link": true
    },
    "kernelspec": {
      "name": "python3",
      "display_name": "Python 3"
    },
    "language_info": {
      "name": "python"
    }
  },
  "cells": [
    {
      "cell_type": "markdown",
      "metadata": {
        "id": "view-in-github",
        "colab_type": "text"
      },
      "source": [
        "<a href=\"https://colab.research.google.com/github/DeenReinierCrusem/OOP-1-1/blob/main/Untitled1.ipynb\" target=\"_parent\"><img src=\"https://colab.research.google.com/assets/colab-badge.svg\" alt=\"Open In Colab\"/></a>"
      ]
    },
    {
      "cell_type": "markdown",
      "source": [
        ""
      ],
      "metadata": {
        "id": "YWlYnk9pickZ"
      }
    },
    {
      "cell_type": "code",
      "execution_count": 43,
      "metadata": {
        "colab": {
          "base_uri": "https://localhost:8080/"
        },
        "id": "ImXBSSveiIIL",
        "outputId": "1b1fe9d4-9eb9-45ae-96a6-7cab088364ac"
      },
      "outputs": [
        {
          "output_type": "stream",
          "name": "stdout",
          "text": [
            "pre:1\n",
            "mid:2\n",
            "fin:3\n",
            "Anonymous1\n",
            "1 2 3\n",
            "pre:1\n",
            "mid:2\n",
            "fin:3\n",
            "Anonymous2\n",
            "1 2 3\n",
            "pre:1\n",
            "mid:3\n",
            "fin:4\n",
            "Anonymous3\n",
            "1 3 4\n"
          ]
        }
      ],
      "source": [
        "class Person_and_attributes:\n",
        "  def __init__(self,std1,std2,std3,pre,mid,fin):\n",
        "    self.std1=std1\n",
        "    self.std2=std2\n",
        "    self.std3=std3\n",
        "    self.pre=pre\n",
        "    self.mid=mid\n",
        "    self.fin=fin\n",
        "  def student1(self):\n",
        "    print(self.std1)\n",
        "\n",
        "  def student2(self):\n",
        "    print(self.std2)\n",
        "\n",
        "  def student3(self):\n",
        "    print(self.std3)\n",
        "\n",
        "  def grade(self):\n",
        "    print(self.pre,self.mid,self.fin)\n",
        "  \n",
        "\n",
        "person=Person_and_attributes(\"Anonymous1\", \"Anonymous2\", \"Anonymous3\", (int(input(\"pre:\"))), (int(input(\"mid:\"))), (int(input(\"fin:\"))))\n",
        "person.student1()\n",
        "person.grade()\n",
        "\n",
        "class Student2(Person_and_attributes):\n",
        "  pass\n",
        "\n",
        "person2=Student2(\"Anonymous1\", \"Anonymous2\", \"Anonymous3\", (int(input(\"pre:\"))), (int(input(\"mid:\"))), (int(input(\"fin:\"))))\n",
        "person2.student2()\n",
        "person2.grade()\n",
        "\n",
        "\n",
        "class Student3(Person_and_attributes):\n",
        "  pass\n",
        "\n",
        "person3=Student3(\"Anonymous1\", \"Anonymous2\", \"Anonymous3\", (int(input(\"pre:\"))), (int(input(\"mid:\"))), (int(input(\"fin:\"))))\n",
        "person3.student3()\n",
        "person3.grade()\n"
      ]
    }
  ]
}