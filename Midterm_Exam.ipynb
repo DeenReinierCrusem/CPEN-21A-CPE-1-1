{
  "nbformat": 4,
  "nbformat_minor": 0,
  "metadata": {
    "colab": {
      "name": "Midterm Exam.ipynb",
      "provenance": [],
      "include_colab_link": true
    },
    "kernelspec": {
      "name": "python3",
      "display_name": "Python 3"
    },
    "language_info": {
      "name": "python"
    }
  },
  "cells": [
    {
      "cell_type": "markdown",
      "metadata": {
        "id": "view-in-github",
        "colab_type": "text"
      },
      "source": [
        "<a href=\"https://colab.research.google.com/github/DeenReinierCrusem/CPEN-21A-CPE-1-1/blob/main/Midterm_Exam.ipynb\" target=\"_parent\"><img src=\"https://colab.research.google.com/assets/colab-badge.svg\" alt=\"Open In Colab\"/></a>"
      ]
    },
    {
      "cell_type": "markdown",
      "metadata": {
        "id": "N_bg8x2Cis78"
      },
      "source": [
        "##Midterm Exam"
      ]
    },
    {
      "cell_type": "markdown",
      "metadata": {
        "id": "KLIAe72Gvt_P"
      },
      "source": [
        "###Problem Statement 1"
      ]
    },
    {
      "cell_type": "code",
      "metadata": {
        "colab": {
          "base_uri": "https://localhost:8080/"
        },
        "id": "Emaa5wk7iu_i",
        "outputId": "082b7325-9edf-4798-cee9-4bf7da6509b6"
      },
      "source": [
        "z='Deen'\n",
        "y='Reinier'\n",
        "x='B.'\n",
        "w='Crusem'\n",
        "print(z + \" \"+ y + \" \"+ x + \" \"+ w)"
      ],
      "execution_count": null,
      "outputs": [
        {
          "output_type": "stream",
          "name": "stdout",
          "text": [
            "Deen Reinier B. Crusem\n"
          ]
        }
      ]
    },
    {
      "cell_type": "code",
      "metadata": {
        "colab": {
          "base_uri": "https://localhost:8080/"
        },
        "id": "w1QGWdIRlWiV",
        "outputId": "a43e5978-228a-4341-c8f8-da8f412f7df7"
      },
      "source": [
        "a=202101495\n",
        "print(a)"
      ],
      "execution_count": null,
      "outputs": [
        {
          "output_type": "stream",
          "name": "stdout",
          "text": [
            "202101495\n"
          ]
        }
      ]
    },
    {
      "cell_type": "code",
      "metadata": {
        "colab": {
          "base_uri": "https://localhost:8080/"
        },
        "id": "LOSFda4Blx_i",
        "outputId": "1a48308d-6bd4-470c-b64c-faa351a730d2"
      },
      "source": [
        "v='18'\n",
        "u='years'\n",
        "t='of'\n",
        "s='age'\n",
        "print(v + \" \"+ u + \" \"+ t + \" \"+ s)"
      ],
      "execution_count": null,
      "outputs": [
        {
          "output_type": "stream",
          "name": "stdout",
          "text": [
            "18 years of age\n"
          ]
        }
      ]
    },
    {
      "cell_type": "code",
      "metadata": {
        "colab": {
          "base_uri": "https://localhost:8080/"
        },
        "id": "g8jEnrZ8mILR",
        "outputId": "ae2d9795-1d00-4c46-88f2-b0bf455da831"
      },
      "source": [
        "r='February'\n",
        "q='10,'\n",
        "p='2003'\n",
        "print(r + \" \"+ q + \" \"+ p)"
      ],
      "execution_count": null,
      "outputs": [
        {
          "output_type": "stream",
          "name": "stdout",
          "text": [
            "February 10, 2003\n"
          ]
        }
      ]
    },
    {
      "cell_type": "code",
      "metadata": {
        "colab": {
          "base_uri": "https://localhost:8080/"
        },
        "id": "SofQpCcDmXnp",
        "outputId": "924ead51-e517-4b67-b900-96675041e35e"
      },
      "source": [
        "a='032'\n",
        "b='Bancod,'\n",
        "c='Indang,'\n",
        "d='Cavite'\n",
        "print(a + \" \"+ b + \" \"+ c + \" \"+ d)"
      ],
      "execution_count": null,
      "outputs": [
        {
          "output_type": "stream",
          "name": "stdout",
          "text": [
            "032 Bancod, Indang, Cavite\n"
          ]
        }
      ]
    },
    {
      "cell_type": "code",
      "metadata": {
        "colab": {
          "base_uri": "https://localhost:8080/"
        },
        "id": "bzvLShFqmlTP",
        "outputId": "477416cb-90de-405e-8364-202c1780813f"
      },
      "source": [
        "z='BSCPE 1-1'\n",
        "print(z)"
      ],
      "execution_count": null,
      "outputs": [
        {
          "output_type": "stream",
          "name": "stdout",
          "text": [
            "BSCPE 1-1\n"
          ]
        }
      ]
    },
    {
      "cell_type": "code",
      "metadata": {
        "id": "4LyIS26OmtZX"
      },
      "source": [
        ""
      ],
      "execution_count": null,
      "outputs": []
    },
    {
      "cell_type": "markdown",
      "metadata": {
        "id": "Xk4xXxvAvz6m"
      },
      "source": [
        "###Problem Statement 2"
      ]
    },
    {
      "cell_type": "code",
      "metadata": {
        "colab": {
          "base_uri": "https://localhost:8080/"
        },
        "id": "IKSfW_CRm7UX",
        "outputId": "405b1b51-1b9d-4177-bdcb-196f02197f9b"
      },
      "source": [
        "n=4\n",
        "(2<n)and(n<6)"
      ],
      "execution_count": null,
      "outputs": [
        {
          "output_type": "execute_result",
          "data": {
            "text/plain": [
              "True"
            ]
          },
          "metadata": {},
          "execution_count": 68
        }
      ]
    },
    {
      "cell_type": "code",
      "metadata": {
        "colab": {
          "base_uri": "https://localhost:8080/"
        },
        "id": "agUyHf1Ppmf4",
        "outputId": "a097ffdc-b720-4b30-911a-e86210ad3cc4"
      },
      "source": [
        "n=4\n",
        "(2<n)or(n==6)"
      ],
      "execution_count": null,
      "outputs": [
        {
          "output_type": "execute_result",
          "data": {
            "text/plain": [
              "True"
            ]
          },
          "metadata": {},
          "execution_count": 69
        }
      ]
    },
    {
      "cell_type": "code",
      "metadata": {
        "colab": {
          "base_uri": "https://localhost:8080/"
        },
        "id": "m1_7CptJpwcO",
        "outputId": "552b4b92-6953-473a-b9b1-a613dbd22586"
      },
      "source": [
        "n=4\n",
        "not(2<n)or(n==6)"
      ],
      "execution_count": null,
      "outputs": [
        {
          "output_type": "execute_result",
          "data": {
            "text/plain": [
              "False"
            ]
          },
          "metadata": {},
          "execution_count": 70
        }
      ]
    },
    {
      "cell_type": "code",
      "metadata": {
        "colab": {
          "base_uri": "https://localhost:8080/"
        },
        "id": "ZgT-kTQNp6rl",
        "outputId": "58621de9-ffb0-4d25-825e-2cd7d51ec25f"
      },
      "source": [
        "n=4\n",
        "not(n<6)"
      ],
      "execution_count": null,
      "outputs": [
        {
          "output_type": "execute_result",
          "data": {
            "text/plain": [
              "False"
            ]
          },
          "metadata": {},
          "execution_count": 71
        }
      ]
    },
    {
      "cell_type": "code",
      "metadata": {
        "colab": {
          "base_uri": "https://localhost:8080/"
        },
        "id": "c4LvbHetzyva",
        "outputId": "f6d99db6-6c83-4df8-a8a8-28dafa52ba1c"
      },
      "source": [
        "(answ==\"Y\")or(answ==\"y\")"
      ],
      "execution_count": null,
      "outputs": [
        {
          "output_type": "execute_result",
          "data": {
            "text/plain": [
              "True"
            ]
          },
          "metadata": {},
          "execution_count": 87
        }
      ]
    },
    {
      "cell_type": "code",
      "metadata": {
        "colab": {
          "base_uri": "https://localhost:8080/"
        },
        "id": "oBSQoeA1z5sK",
        "outputId": "4060b1fd-e227-46b6-8619-b43b80b0c7ae"
      },
      "source": [
        "(answ==\"Y\")and(answ==\"y\")"
      ],
      "execution_count": null,
      "outputs": [
        {
          "output_type": "execute_result",
          "data": {
            "text/plain": [
              "True"
            ]
          },
          "metadata": {},
          "execution_count": 89
        }
      ]
    },
    {
      "cell_type": "code",
      "metadata": {
        "colab": {
          "base_uri": "https://localhost:8080/"
        },
        "id": "elzE_IWc0Fga",
        "outputId": "48acce97-c1a6-410e-f4a5-009d0a73d2b1"
      },
      "source": [
        "not(answ==\"y\")"
      ],
      "execution_count": null,
      "outputs": [
        {
          "output_type": "execute_result",
          "data": {
            "text/plain": [
              "True"
            ]
          },
          "metadata": {},
          "execution_count": 90
        }
      ]
    },
    {
      "cell_type": "code",
      "metadata": {
        "colab": {
          "base_uri": "https://localhost:8080/"
        },
        "id": "0ANOlS1S0FmE",
        "outputId": "75f32104-506c-4ee2-b4e2-d55e3dbfb409"
      },
      "source": [
        "((2<4)and(4==7))or(answ==\"no\")"
      ],
      "execution_count": null,
      "outputs": [
        {
          "output_type": "execute_result",
          "data": {
            "text/plain": [
              "False"
            ]
          },
          "metadata": {},
          "execution_count": 93
        }
      ]
    },
    {
      "cell_type": "code",
      "metadata": {
        "colab": {
          "base_uri": "https://localhost:8080/"
        },
        "id": "ADYBd4dB0FsC",
        "outputId": "1d0c3096-8392-4966-ec96-fd8dcfe64e66"
      },
      "source": [
        "((4==2)and(4==7))or(answ==\"Y\")"
      ],
      "execution_count": null,
      "outputs": [
        {
          "output_type": "execute_result",
          "data": {
            "text/plain": [
              "True"
            ]
          },
          "metadata": {},
          "execution_count": 95
        }
      ]
    },
    {
      "cell_type": "code",
      "metadata": {
        "colab": {
          "base_uri": "https://localhost:8080/"
        },
        "id": "2habM81v0FyK",
        "outputId": "cf31a7d4-dae1-4c4e-c1a3-5acb50148b6f"
      },
      "source": [
        "(4==2)and((4==7)or(answ==\"Y\"))"
      ],
      "execution_count": null,
      "outputs": [
        {
          "output_type": "execute_result",
          "data": {
            "text/plain": [
              "False"
            ]
          },
          "metadata": {},
          "execution_count": 98
        }
      ]
    },
    {
      "cell_type": "markdown",
      "metadata": {
        "id": "IKsK6_aMv3iN"
      },
      "source": [
        "###Problem Statement 3"
      ]
    },
    {
      "cell_type": "code",
      "metadata": {
        "colab": {
          "base_uri": "https://localhost:8080/"
        },
        "id": "I4VBtaQ_rEfL",
        "outputId": "6d654f10-1cfb-4d19-e1dc-82e50293386d"
      },
      "source": [
        "print(2/-3)"
      ],
      "execution_count": null,
      "outputs": [
        {
          "output_type": "stream",
          "name": "stdout",
          "text": [
            "-0.6666666666666666\n"
          ]
        }
      ]
    },
    {
      "cell_type": "code",
      "metadata": {
        "colab": {
          "base_uri": "https://localhost:8080/"
        },
        "id": "A8oHxcYMrPPL",
        "outputId": "b507b8d8-65e8-41ce-b9f1-e456cc213b96"
      },
      "source": [
        "print(7/-3/2)"
      ],
      "execution_count": null,
      "outputs": [
        {
          "output_type": "stream",
          "name": "stdout",
          "text": [
            "-1.1666666666666667\n"
          ]
        }
      ]
    },
    {
      "cell_type": "code",
      "metadata": {
        "colab": {
          "base_uri": "https://localhost:8080/"
        },
        "id": "toRZdrU0rPor",
        "outputId": "396d00b4-9c32-44e5-fc01-fe0c8686e296"
      },
      "source": [
        "print(-10/-3%2)"
      ],
      "execution_count": null,
      "outputs": [
        {
          "output_type": "stream",
          "name": "stdout",
          "text": [
            "1.3333333333333335\n"
          ]
        }
      ]
    },
    {
      "cell_type": "code",
      "metadata": {
        "colab": {
          "base_uri": "https://localhost:8080/"
        },
        "id": "VZTrkTP0r0yS",
        "outputId": "d909646c-11b8-4d2a-c877-3913b15cd950"
      },
      "source": [
        "print(2%--3*7)"
      ],
      "execution_count": null,
      "outputs": [
        {
          "output_type": "stream",
          "name": "stdout",
          "text": [
            "14\n"
          ]
        }
      ]
    },
    {
      "cell_type": "code",
      "metadata": {
        "colab": {
          "base_uri": "https://localhost:8080/"
        },
        "id": "6ppieit6rPq9",
        "outputId": "50929615-1bf2-49c9-da4d-a2b3a19a520d"
      },
      "source": [
        "print(2%-3)"
      ],
      "execution_count": null,
      "outputs": [
        {
          "output_type": "stream",
          "name": "stdout",
          "text": [
            "-1\n"
          ]
        }
      ]
    },
    {
      "cell_type": "code",
      "metadata": {
        "colab": {
          "base_uri": "https://localhost:8080/"
        },
        "id": "HfIK6pDBrPtS",
        "outputId": "4ecdadab-5e35-48d4-ec54-7b1f2f880d96"
      },
      "source": [
        "print(-10%7--3/2*5+5)"
      ],
      "execution_count": null,
      "outputs": [
        {
          "output_type": "stream",
          "name": "stdout",
          "text": [
            "16.5\n"
          ]
        }
      ]
    },
    {
      "cell_type": "code",
      "metadata": {
        "colab": {
          "base_uri": "https://localhost:8080/"
        },
        "id": "B0tFM9D3rPvl",
        "outputId": "88fe8d3e-5e2c-4abc-be9b-dcc61dc880f6"
      },
      "source": [
        "print(9-2%(2+-3))"
      ],
      "execution_count": null,
      "outputs": [
        {
          "output_type": "stream",
          "name": "stdout",
          "text": [
            "9\n"
          ]
        }
      ]
    },
    {
      "cell_type": "code",
      "metadata": {
        "colab": {
          "base_uri": "https://localhost:8080/"
        },
        "id": "Nzz5_QMArP0G",
        "outputId": "bff42a78-2d6e-43b7-cd61-23c677d0161b"
      },
      "source": [
        "print(-10//7)"
      ],
      "execution_count": null,
      "outputs": [
        {
          "output_type": "stream",
          "name": "stdout",
          "text": [
            "-2\n"
          ]
        }
      ]
    },
    {
      "cell_type": "code",
      "metadata": {
        "colab": {
          "base_uri": "https://localhost:8080/"
        },
        "id": "mWz29az6rP2g",
        "outputId": "7d8f2c76-fb3d-447c-e5f8-739a690baeb9"
      },
      "source": [
        "print((2+-3)**2)"
      ],
      "execution_count": null,
      "outputs": [
        {
          "output_type": "stream",
          "name": "stdout",
          "text": [
            "1\n"
          ]
        }
      ]
    },
    {
      "cell_type": "code",
      "metadata": {
        "colab": {
          "base_uri": "https://localhost:8080/"
        },
        "id": "R8GZaJjorP5E",
        "outputId": "d3988565-90a1-41e4-9080-3ea10831eeae"
      },
      "source": [
        "print(7/2*2)"
      ],
      "execution_count": null,
      "outputs": [
        {
          "output_type": "stream",
          "name": "stdout",
          "text": [
            "7.0\n"
          ]
        }
      ]
    }
  ]
}