{
  "nbformat": 4,
  "nbformat_minor": 0,
  "metadata": {
    "colab": {
      "name": "Midterm Exam.ipynb",
      "provenance": [],
      "authorship_tag": "ABX9TyPlwrzTcSmVXs4EhOrd4b+D",
      "include_colab_link": true
    },
    "kernelspec": {
      "name": "python3",
      "display_name": "Python 3"
    },
    "language_info": {
      "name": "python"
    }
  },
  "cells": [
    {
      "cell_type": "markdown",
      "metadata": {
        "id": "view-in-github",
        "colab_type": "text"
      },
      "source": [
        "<a href=\"https://colab.research.google.com/github/DeenReinierCrusem/OOP-1-1/blob/main/Midterm_Exam.ipynb\" target=\"_parent\"><img src=\"https://colab.research.google.com/assets/colab-badge.svg\" alt=\"Open In Colab\"/></a>"
      ]
    },
    {
      "cell_type": "code",
      "execution_count": 20,
      "metadata": {
        "colab": {
          "base_uri": "https://localhost:8080/"
        },
        "id": "oZXHf5W7IxtN",
        "outputId": "c4c2cc55-c0c8-4733-f1a1-e172914b977e"
      },
      "outputs": [
        {
          "output_type": "stream",
          "name": "stdout",
          "text": [
            "Enter the temperature in Celsius:35\n",
            "308.15 Kelvin\n",
            "95.0 Fahrenheit\n",
            "Enter the temperature in Fahrenheit:95\n",
            "35.0Celsius\n",
            "Enter the temperature in Kelvin:308.15\n",
            "35.0 Celsius\n"
          ]
        }
      ],
      "source": [
        "def main():\n",
        "  class TemperatureConversion:\n",
        "    def __init__(self, temp=1):\n",
        "      self._temp = temp\n",
        "  class CelsiusToFahrenheit(TemperatureConversion):\n",
        "    def conversion(self):\n",
        "      return (self._temp * 9) / 5 + 32\n",
        "  class CelsiusToKelvin(TemperatureConversion):\n",
        "    def conversion(self):\n",
        "      return self._temp + 273.15\n",
        "\n",
        "  tempInCelsius = float(input(\"Enter the temperature in Celsius:\"))\n",
        "  convert = CelsiusToKelvin(tempInCelsius)\n",
        "  print(str(convert.conversion()) + \" \" + \"Kelvin\")\n",
        "  convert = CelsiusToFahrenheit(tempInCelsius)\n",
        "  print(str(convert.conversion()) + \" \" + \"Fahrenheit\")\n",
        "\n",
        "  class FahrenheitToCelsius(TemperatureConversion):\n",
        "    def conversion(self):\n",
        "      return (self._temp - 32) * 5/9\n",
        "  \n",
        "  tempInFahrenheit = float(input(\"Enter the temperature in Fahrenheit:\"))\n",
        "  convert = FahrenheitToCelsius(tempInFahrenheit)\n",
        "  print(str(convert.conversion()) + \"Celsius\")\n",
        "\n",
        "  class KelvinToCelsius(TemperatureConversion):\n",
        "    def conversion(self):\n",
        "      return self._temp - 273.15\n",
        "  \n",
        "  tempInKelvin = float(input(\"Enter the temperature in Kelvin:\"))\n",
        "  convert = KelvinToCelsius(tempInKelvin)\n",
        "  print(str(convert.conversion()) + \" \" + \"Celsius\")\n",
        "\n",
        "\n",
        "main()"
      ]
    }
  ]
}