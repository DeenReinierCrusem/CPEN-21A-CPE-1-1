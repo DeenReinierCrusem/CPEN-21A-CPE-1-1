{
  "nbformat": 4,
  "nbformat_minor": 0,
  "metadata": {
    "colab": {
      "name": "Lab1.ipynb",
      "provenance": [],
      "authorship_tag": "ABX9TyNNmhhz/u/lrL63rNfbNodF",
      "include_colab_link": true
    },
    "kernelspec": {
      "name": "python3",
      "display_name": "Python 3"
    },
    "language_info": {
      "name": "python"
    }
  },
  "cells": [
    {
      "cell_type": "markdown",
      "metadata": {
        "id": "view-in-github",
        "colab_type": "text"
      },
      "source": [
        "<a href=\"https://colab.research.google.com/github/DeenReinierCrusem/Programming/blob/main/Lab1.ipynb\" target=\"_parent\"><img src=\"https://colab.research.google.com/assets/colab-badge.svg\" alt=\"Open In Colab\"/></a>"
      ]
    },
    {
      "cell_type": "markdown",
      "metadata": {
        "id": "XfgCm2mmYCce"
      },
      "source": [
        "#Laboratory 1"
      ]
    },
    {
      "cell_type": "code",
      "metadata": {
        "colab": {
          "base_uri": "https://localhost:8080/"
        },
        "id": "2T1y8Qq4bwB-",
        "outputId": "45ffa369-6d07-4091-bcd3-6bf659540e1c"
      },
      "source": [
        "x='Welcome to Python Programming'\n",
        "print(x)"
      ],
      "execution_count": 8,
      "outputs": [
        {
          "output_type": "stream",
          "name": "stdout",
          "text": [
            "Welcome to Python Programming\n"
          ]
        }
      ]
    },
    {
      "cell_type": "code",
      "metadata": {
        "colab": {
          "base_uri": "https://localhost:8080/"
        },
        "id": "XtikBCE7YLTO",
        "outputId": "29ac4eba-70e4-4b9b-e87e-8f37cac5a1ce"
      },
      "source": [
        "a='Welcome'\n",
        "b='to'\n",
        "c='Python'\n",
        "d='Programming'\n",
        "print(a + \" \"+ b + \" \"+ c + \" \"+ d)"
      ],
      "execution_count": 6,
      "outputs": [
        {
          "output_type": "stream",
          "name": "stdout",
          "text": [
            "Welcome to Python Programming\n"
          ]
        }
      ]
    },
    {
      "cell_type": "code",
      "metadata": {
        "colab": {
          "base_uri": "https://localhost:8080/"
        },
        "id": "kUbgcRbwbtFw",
        "outputId": "987aab5c-0101-4c90-920e-ee8adff148bd"
      },
      "source": [
        "c='Deen Reinier B. Crusem'\n",
        "a='032 Bancod, Indang, Cavite'\n",
        "t='18 years of age'\n",
        "print(c)\n",
        "print(a)\n",
        "print(t)"
      ],
      "execution_count": 9,
      "outputs": [
        {
          "output_type": "stream",
          "name": "stdout",
          "text": [
            "Deen Reinier B. Crusem\n",
            "032 Bancod, Indang, Cavite\n",
            "18 years of age\n"
          ]
        }
      ]
    },
    {
      "cell_type": "code",
      "metadata": {
        "colab": {
          "base_uri": "https://localhost:8080/"
        },
        "id": "LoVyshOXegT7",
        "outputId": "b68b5663-0bb2-410b-e5cb-a189ab8d8baf"
      },
      "source": [
        "z='Deen'\n",
        "y='Reinier'\n",
        "x='B.'\n",
        "w='Crusem'\n",
        "v='032'\n",
        "u='Bancod,'\n",
        "t='Indang,'\n",
        "s='Cavite'\n",
        "r='18'\n",
        "q='years'\n",
        "p='of'\n",
        "o='age'\n",
        "print(z + \" \"+ y + \" \"+ x + \" \"+ w)\n",
        "print(v + \" \"+ u + \" \"+ t + \" \"+ s)\n",
        "print(r + \" \"+ q + \" \"+ p + \" \"+ o)"
      ],
      "execution_count": 14,
      "outputs": [
        {
          "output_type": "stream",
          "name": "stdout",
          "text": [
            "Deen Reinier B. Crusem\n",
            "032 Bancod, Indang, Cavite\n",
            "18 years of age\n"
          ]
        }
      ]
    },
    {
      "cell_type": "code",
      "metadata": {
        "id": "LlDcoP-bgoHF"
      },
      "source": [
        "+"
      ],
      "execution_count": null,
      "outputs": []
    }
  ]
}