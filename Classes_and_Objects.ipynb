{
  "nbformat": 4,
  "nbformat_minor": 0,
  "metadata": {
    "colab": {
      "name": "Classes and Objects.ipynb",
      "provenance": [],
      "authorship_tag": "ABX9TyOmpgpovWCu2FqPQ2QkJqfT",
      "include_colab_link": true
    },
    "kernelspec": {
      "name": "python3",
      "display_name": "Python 3"
    },
    "language_info": {
      "name": "python"
    }
  },
  "cells": [
    {
      "cell_type": "markdown",
      "metadata": {
        "id": "view-in-github",
        "colab_type": "text"
      },
      "source": [
        "<a href=\"https://colab.research.google.com/github/DeenReinierCrusem/OOP-1-1/blob/main/Classes_and_Objects.ipynb\" target=\"_parent\"><img src=\"https://colab.research.google.com/assets/colab-badge.svg\" alt=\"Open In Colab\"/></a>"
      ]
    },
    {
      "cell_type": "markdown",
      "source": [
        "Application 2: Write a python program that displays the fullname of a student, student number, age, course, and school. Create a class name OOP_1_1 and create info() method to display the information of a student with full name, student_no, age, course, school as attributes"
      ],
      "metadata": {
        "id": "sm_cn2_M1oST"
      }
    },
    {
      "cell_type": "code",
      "source": [
        "class OOP_1_1:\n",
        "  def __init__(self,fullname,student_no,age,course,school):\n",
        "    self.fullname = fullname\n",
        "    self.student_no = student_no\n",
        "    self.age = age\n",
        "    self.course = course\n",
        "    self.school = school\n",
        "\n",
        "  def info(self):\n",
        "    print(self.fullname, self.student_no, self.age, self.course, self.school)\n",
        " \n",
        "student = OOP_1_1(\"Crusem, Deen Reinier B.\", 202101495, 19, \"BSCpE\", \"CvSU\")\n",
        "student.info()"
      ],
      "metadata": {
        "colab": {
          "base_uri": "https://localhost:8080/"
        },
        "id": "VTK8zF8Z1pJM",
        "outputId": "efb014cc-3833-4053-d349-697a2ac99521"
      },
      "execution_count": 9,
      "outputs": [
        {
          "output_type": "stream",
          "name": "stdout",
          "text": [
            "Crusem, Deen Reinier B. 202101495 19 BSCpE CvSU\n"
          ]
        }
      ]
    },
    {
      "cell_type": "code",
      "source": [
        "class OOP_1_1:\n",
        "  def __init__(self,fullname,student_no,age,course,school):\n",
        "    self.fullname = fullname\n",
        "    self.student_no = student_no\n",
        "    self.age = age\n",
        "    self.course = course\n",
        "    self.school = school\n",
        "\n",
        "  def info(self):\n",
        "    print(\"My name is\",self.fullname) \n",
        "    print(\"My student number is\",self.student_no)\n",
        "    print(\"My age is\",self.age)\n",
        "    print(\"My course is\",self.course)\n",
        "    print(\"My school is\",self.school)\n",
        "student = OOP_1_1(\"Deen Reinier B. Crusem\", 202101495, 19, \"BSCpE\", \"CvSU\")\n",
        "student.info()"
      ],
      "metadata": {
        "colab": {
          "base_uri": "https://localhost:8080/"
        },
        "id": "V1n5PfPc6YbN",
        "outputId": "54f72b0b-3b59-4fe2-8679-0b2a77725027"
      },
      "execution_count": 13,
      "outputs": [
        {
          "output_type": "stream",
          "name": "stdout",
          "text": [
            "My name is Deen Reinier B. Crusem\n",
            "My student number is 202101495\n",
            "My age is 19\n",
            "My course is BSCpE\n",
            "My school is CvSU\n"
          ]
        }
      ]
    },
    {
      "cell_type": "markdown",
      "source": [
        "Application 3 - Define an Area() method of the class circle that calculates the circle's area. Define a perimeter() method of the class which allows you to calculate the perimeter of the circle"
      ],
      "metadata": {
        "id": "uMKaoHJJCWqz"
      }
    },
    {
      "cell_type": "code",
      "source": [
        "class circle: \n",
        "  def __init__(self,pi,radius):\n",
        "    self.pi = pi\n",
        "    self.radius = radius\n",
        "\n",
        "  def Area(self):\n",
        "    print(self.pi*self.radius*self.radius)  #radius is squared\n",
        "\n",
        "bilog = circle(3.14,7)\n",
        "bilog.Area()\n",
        "                  "
      ],
      "metadata": {
        "colab": {
          "base_uri": "https://localhost:8080/"
        },
        "id": "_-MMjh2sCXjC",
        "outputId": "4ca5b4b0-6a52-4ca3-8f37-742e498b6bfb"
      },
      "execution_count": 14,
      "outputs": [
        {
          "output_type": "stream",
          "name": "stdout",
          "text": [
            "153.86\n"
          ]
        }
      ]
    },
    {
      "cell_type": "code",
      "source": [
        "class circle: \n",
        "  def __init__(self,pi,radius):\n",
        "    self.pi = pi\n",
        "    self.radius = radius\n",
        "\n",
        "  def perimeter(self):\n",
        "    print(2*self.pi*self.radius)  #multiply to 2 based on formula \n",
        "\n",
        "bilog = circle(3.14,7)\n",
        "bilog.perimeter()"
      ],
      "metadata": {
        "colab": {
          "base_uri": "https://localhost:8080/"
        },
        "id": "kdMtaLafCcZC",
        "outputId": "e9c015e4-ab7a-40ac-c5b7-a0d5950cd1f9"
      },
      "execution_count": 16,
      "outputs": [
        {
          "output_type": "stream",
          "name": "stdout",
          "text": [
            "43.96\n"
          ]
        }
      ]
    }
  ]
}