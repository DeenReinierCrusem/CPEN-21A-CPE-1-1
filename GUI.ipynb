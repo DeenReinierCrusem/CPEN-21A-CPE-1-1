{
  "nbformat": 4,
  "nbformat_minor": 0,
  "metadata": {
    "colab": {
      "name": "GUI.ipynb",
      "provenance": [],
      "authorship_tag": "ABX9TyMQihPUwy8yb1SeL30FNf7r",
      "include_colab_link": true
    },
    "kernelspec": {
      "name": "python3",
      "display_name": "Python 3"
    },
    "language_info": {
      "name": "python"
    }
  },
  "cells": [
    {
      "cell_type": "markdown",
      "metadata": {
        "id": "view-in-github",
        "colab_type": "text"
      },
      "source": [
        "<a href=\"https://colab.research.google.com/github/DeenReinierCrusem/OOP-1-1/blob/main/GUI.ipynb\" target=\"_parent\"><img src=\"https://colab.research.google.com/assets/colab-badge.svg\" alt=\"Open In Colab\"/></a>"
      ]
    },
    {
      "cell_type": "markdown",
      "source": [
        "Students' Grade in OOP Subject"
      ],
      "metadata": {
        "id": "yD0oDXl5SIvA"
      }
    },
    {
      "cell_type": "code",
      "source": [
        "#@title Students' Grade in OOP\n",
        "student_no = 'Deen Reinier Crusem' #@ param {type: \"string\"}\n",
        "prelim = 90 #@ param {type: 'integer'}\n",
        "midterm = 85 #@ param {type: 'number'}\n",
        "final = 93 #@ param {type: 'number'}\n",
        "semestral_grade = round((prelim + midterm + final)/3,2)\n",
        "\n",
        "print(\"Prelim = \" + str(prelim))\n",
        "print(\"Midterm = \" + str(midterm))\n",
        "print(\"Finals = \" + str(final))\n",
        "print(\"Semestral Grade = \" + str(semestral_grade))\n",
        "\n",
        "Gender = \"Male\" #@param [\"Male\", \"Female\"]\n",
        "BirthDate = '2003-02-10' #@param{type:\"date\"}\n",
        "\n",
        "print(\"My Birthday is: \" + BirthDate)"
      ],
      "metadata": {
        "colab": {
          "base_uri": "https://localhost:8080/"
        },
        "id": "D5FYUQWPST6w",
        "outputId": "d50cb26f-dd4c-4918-ab7a-0bbb1b5f9b8b"
      },
      "execution_count": 9,
      "outputs": [
        {
          "output_type": "stream",
          "name": "stdout",
          "text": [
            "Prelim = 90\n",
            "Midterm = 85\n",
            "Finals = 93\n",
            "Semestral Grade = 89.33\n",
            "My Birthday is: 2003-02-10\n"
          ]
        }
      ]
    }
  ]
}