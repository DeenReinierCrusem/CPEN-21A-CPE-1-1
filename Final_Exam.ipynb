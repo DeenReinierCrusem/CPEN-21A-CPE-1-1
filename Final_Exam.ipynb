{
  "nbformat": 4,
  "nbformat_minor": 0,
  "metadata": {
    "colab": {
      "name": "Final Exam.ipynb",
      "provenance": [],
      "authorship_tag": "ABX9TyPKLKmG5DCcJkh1I2A+Kucb",
      "include_colab_link": true
    },
    "kernelspec": {
      "name": "python3",
      "display_name": "Python 3"
    },
    "language_info": {
      "name": "python"
    }
  },
  "cells": [
    {
      "cell_type": "markdown",
      "metadata": {
        "id": "view-in-github",
        "colab_type": "text"
      },
      "source": [
        "<a href=\"https://colab.research.google.com/github/DeenReinierCrusem/CPEN-21A-CPE-1-1/blob/main/Final_Exam.ipynb\" target=\"_parent\"><img src=\"https://colab.research.google.com/assets/colab-badge.svg\" alt=\"Open In Colab\"/></a>"
      ]
    },
    {
      "cell_type": "markdown",
      "source": [
        "#Final Exam"
      ],
      "metadata": {
        "id": "X3JzWWkAfJBh"
      }
    },
    {
      "cell_type": "markdown",
      "source": [
        "###Problem 1"
      ],
      "metadata": {
        "id": "vgriS01VMZtq"
      }
    },
    {
      "cell_type": "code",
      "source": [
        ""
      ],
      "metadata": {
        "id": "lLbHnDAJMh7y"
      },
      "execution_count": null,
      "outputs": []
    },
    {
      "cell_type": "markdown",
      "source": [
        "###Problem 2"
      ],
      "metadata": {
        "id": "je-5i6K2MeeB"
      }
    },
    {
      "cell_type": "code",
      "source": [
        ""
      ],
      "metadata": {
        "id": "TBcSpdMqMiXh"
      },
      "execution_count": null,
      "outputs": []
    },
    {
      "cell_type": "markdown",
      "source": [
        "###Problem 3"
      ],
      "metadata": {
        "id": "u4yvFWu_KKsw"
      }
    },
    {
      "cell_type": "code",
      "source": [
        "#The Grade as the input\n",
        "Grade = (input(\"Enter the grade of the student:\"))\n",
        "if Grade==\"A\":\n",
        "  print (\"90 and above\")\n",
        "else:\n",
        "  if Grade==\"B\":\n",
        "    print (\"80-89\")\n",
        "  else:\n",
        "    if Grade==\"C\":\n",
        "      print (\"70-79\")\n",
        "    else:\n",
        "      if Grade==\"D\":\n",
        "        print (\"60-69\")\n",
        "      else:\n",
        "        if Grade==\"F\":\n",
        "          print (\"below 60\")"
      ],
      "metadata": {
        "colab": {
          "base_uri": "https://localhost:8080/"
        },
        "id": "9D92mo7ffJl5",
        "outputId": "a363c6e4-9fd9-4bc9-c88e-8aaeed72b5e2"
      },
      "execution_count": 10,
      "outputs": [
        {
          "output_type": "stream",
          "name": "stdout",
          "text": [
            "Enter the grade of the student:C\n",
            "70-79\n"
          ]
        }
      ]
    },
    {
      "cell_type": "code",
      "source": [
        "#The range as the input\n",
        "Grade = int(input(\"Enter the range of grade:\"))\n",
        "if Grade>=90:\n",
        "  print (\"A\")\n",
        "else:\n",
        "  if Grade>=80:\n",
        "    print (\"B\")\n",
        "  else:\n",
        "    if Grade>=70:\n",
        "      print (\"C\")\n",
        "    else:\n",
        "      if Grade>=60:\n",
        "        print (\"D\")\n",
        "      else:\n",
        "        if Grade<60:\n",
        "          print (\"F\")"
      ],
      "metadata": {
        "id": "iZ3yPeMxr78H",
        "outputId": "bdbe36f6-6bdc-45f7-fcdd-1431bf486508",
        "colab": {
          "base_uri": "https://localhost:8080/"
        }
      },
      "execution_count": 5,
      "outputs": [
        {
          "output_type": "stream",
          "name": "stdout",
          "text": [
            "Enter the grade:88\n",
            "B\n"
          ]
        }
      ]
    }
  ]
}