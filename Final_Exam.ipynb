{
  "nbformat": 4,
  "nbformat_minor": 0,
  "metadata": {
    "colab": {
      "name": "Final Exam.ipynb",
      "provenance": [],
      "authorship_tag": "ABX9TyOJABZn6WhgHWof1fR++PDa",
      "include_colab_link": true
    },
    "kernelspec": {
      "name": "python3",
      "display_name": "Python 3"
    },
    "language_info": {
      "name": "python"
    }
  },
  "cells": [
    {
      "cell_type": "markdown",
      "metadata": {
        "id": "view-in-github",
        "colab_type": "text"
      },
      "source": [
        "<a href=\"https://colab.research.google.com/github/DeenReinierCrusem/CPEN-21A-CPE-1-1/blob/main/Final_Exam.ipynb\" target=\"_parent\"><img src=\"https://colab.research.google.com/assets/colab-badge.svg\" alt=\"Open In Colab\"/></a>"
      ]
    },
    {
      "cell_type": "markdown",
      "source": [
        "#Final Exam"
      ],
      "metadata": {
        "id": "X3JzWWkAfJBh"
      }
    },
    {
      "cell_type": "markdown",
      "source": [
        "###Problem 1"
      ],
      "metadata": {
        "id": "vgriS01VMZtq"
      }
    },
    {
      "cell_type": "code",
      "source": [
        "sum=0\n",
        "print(\"10 numbers that are all less than 5:\")\n",
        "for x in range(1,5):\n",
        "  print(x)\n",
        "  sum=sum+x\n",
        "  if x==4:\n",
        "    break\n",
        "  print(x)\n",
        "  sum=sum+x\n",
        "  print(x)\n",
        "  sum=sum+x\n",
        "print()\n",
        "print(\"The summation of 10 numbers above:\",sum)"
      ],
      "metadata": {
        "colab": {
          "base_uri": "https://localhost:8080/"
        },
        "id": "YQKNcvz0bDbf",
        "outputId": "546fac10-569a-4fe1-9d87-6a40a6356d2b"
      },
      "execution_count": 103,
      "outputs": [
        {
          "output_type": "stream",
          "name": "stdout",
          "text": [
            "10 numbers that are all less than 5:\n",
            "1\n",
            "1\n",
            "1\n",
            "2\n",
            "2\n",
            "2\n",
            "3\n",
            "3\n",
            "3\n",
            "4\n",
            "\n",
            "The summation of 10 numbers above: 22\n"
          ]
        }
      ]
    },
    {
      "cell_type": "markdown",
      "source": [
        "###Problem 2"
      ],
      "metadata": {
        "id": "je-5i6K2MeeB"
      }
    },
    {
      "cell_type": "code",
      "source": [
        "five_numbers=0\n",
        "while five_numbers<5:\n",
        "  z=int(input(\"selected number:\"))\n",
        "  five_numbers+=1\n",
        "  if five_numbers==1:\n",
        "    one=z\n",
        "  elif five_numbers==5:\n",
        "    five=z\n",
        "print(\"sum of first and last selected number:\",one+five)"
      ],
      "metadata": {
        "colab": {
          "base_uri": "https://localhost:8080/"
        },
        "id": "m2mgmQoDifrJ",
        "outputId": "7dbe1dc3-71f0-4bc1-f2ea-a00ab168421d"
      },
      "execution_count": 104,
      "outputs": [
        {
          "output_type": "stream",
          "name": "stdout",
          "text": [
            "selected number:45\n",
            "selected number:76\n",
            "selected number:37\n",
            "selected number:63\n",
            "selected number:18\n",
            "sum of first and last selected number: 63\n"
          ]
        }
      ]
    },
    {
      "cell_type": "markdown",
      "source": [
        "###Problem 3"
      ],
      "metadata": {
        "id": "u4yvFWu_KKsw"
      }
    },
    {
      "cell_type": "code",
      "source": [
        "#The range as the input\n",
        "Grade = int(input(\"Enter the grade of the student:\"))\n",
        "if Grade>=90:\n",
        "  print (\"A\")\n",
        "else:\n",
        "  if Grade>=80:\n",
        "    print (\"B\")\n",
        "  else:\n",
        "    if Grade>=70:\n",
        "      print (\"C\")\n",
        "    else:\n",
        "      if Grade>=60:\n",
        "        print (\"D\")\n",
        "      else:\n",
        "        if Grade<60:\n",
        "          print (\"F\")"
      ],
      "metadata": {
        "id": "iZ3yPeMxr78H",
        "colab": {
          "base_uri": "https://localhost:8080/"
        },
        "outputId": "d944f858-a9b1-4a7d-e55d-08e61e25ca61"
      },
      "execution_count": 105,
      "outputs": [
        {
          "output_type": "stream",
          "name": "stdout",
          "text": [
            "Enter the grade of the student:88\n",
            "B\n"
          ]
        }
      ]
    },
    {
      "cell_type": "code",
      "source": [
        "#The Grade as the input (try ko lang po baliktadin yung input hihi)\n",
        "Grade = (input(\"Enter the grade of the student:\"))\n",
        "if Grade==\"A\":\n",
        "  print (\"90 and above\")\n",
        "else:\n",
        "  if Grade==\"B\":\n",
        "    print (\"80-89\")\n",
        "  else:\n",
        "    if Grade==\"C\":\n",
        "      print (\"70-79\")\n",
        "    else:\n",
        "      if Grade==\"D\":\n",
        "        print (\"60-69\")\n",
        "      else:\n",
        "        if Grade==\"F\":\n",
        "          print (\"below 60\")"
      ],
      "metadata": {
        "colab": {
          "base_uri": "https://localhost:8080/"
        },
        "id": "d08AKuKSQZG8",
        "outputId": "8ec75a84-46c0-42b3-a343-4983b5475048"
      },
      "execution_count": 13,
      "outputs": [
        {
          "output_type": "stream",
          "name": "stdout",
          "text": [
            "Enter the grade of the student:C\n",
            "70-79\n"
          ]
        }
      ]
    }
  ]
}