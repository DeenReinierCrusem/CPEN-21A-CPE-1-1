{
  "nbformat": 4,
  "nbformat_minor": 0,
  "metadata": {
    "colab": {
      "name": "Final Exam.ipynb",
      "provenance": [],
      "authorship_tag": "ABX9TyMte+SIhdpsP/yOJ7WMb+K6",
      "include_colab_link": true
    },
    "kernelspec": {
      "name": "python3",
      "display_name": "Python 3"
    },
    "language_info": {
      "name": "python"
    }
  },
  "cells": [
    {
      "cell_type": "markdown",
      "metadata": {
        "id": "view-in-github",
        "colab_type": "text"
      },
      "source": [
        "<a href=\"https://colab.research.google.com/github/DeenReinierCrusem/CPEN-21A-CPE-1-1/blob/main/Final_Exam.ipynb\" target=\"_parent\"><img src=\"https://colab.research.google.com/assets/colab-badge.svg\" alt=\"Open In Colab\"/></a>"
      ]
    },
    {
      "cell_type": "markdown",
      "source": [
        "##Final Exam"
      ],
      "metadata": {
        "id": "AhKpCscvfCiZ"
      }
    },
    {
      "cell_type": "markdown",
      "source": [
        "##Final Exam"
      ],
      "metadata": {
        "id": "X3JzWWkAfJBh"
      }
    },
    {
      "cell_type": "code",
      "source": [
        "Grade = (input(\"Enter the grade:\"))\n",
        "if Grade==\"A\":\n",
        "  print (\"90 and above\")\n",
        "else:\n",
        "  print (\"below 90\")\n",
        "  if Grade==\"B\":\n",
        "    print (\"80-89\")\n",
        "  else:\n",
        "    print (\"above 89 or below 80\")\n",
        "    if Grade==\"C\":\n",
        "      print (\"70-79\")\n",
        "    else:\n",
        "      print (\"above 79 or below 70\")\n",
        "      if Grade==\"D\":\n",
        "        print (\"60-69\")\n",
        "      else:\n",
        "        print (\"above 69 or below 60\")\n",
        "        if Grade==\"F\":\n",
        "          print (\"below 60\")\n",
        "        else: (\"above 60\")"
      ],
      "metadata": {
        "colab": {
          "base_uri": "https://localhost:8080/"
        },
        "id": "9D92mo7ffJl5",
        "outputId": "dbfea404-cfa3-46d9-d9d1-fda14f6a2dd4"
      },
      "execution_count": 68,
      "outputs": [
        {
          "output_type": "stream",
          "name": "stdout",
          "text": [
            "Enter the grade:A\n",
            "90 and above\n"
          ]
        }
      ]
    },
    {
      "cell_type": "code",
      "source": [
        "Grade = int(input(\"Enter the grade:\"))\n",
        "if Grade==\"A\":\n",
        "  print (\"90 and above\")\n",
        "else:\n",
        "  print (\"below 90\")\n",
        "  if Grade==\"B\":\n",
        "    print (\"80-89\")\n",
        "  else:\n",
        "    print (\"above 89 or below 80\")\n",
        "    if Grade==\"C\":\n",
        "      print (\"70-79\")\n",
        "    else:\n",
        "      print (\"above 79 or below 70\")\n",
        "      if Grade==\"D\":\n",
        "        print (\"60-69\")\n",
        "      else:\n",
        "        print (\"above 69 or below 60\")\n",
        "        if Grade==\"F\":\n",
        "          print (\"below 60\")\n",
        "        else: (\"above 60\")"
      ],
      "metadata": {
        "id": "iZ3yPeMxr78H"
      },
      "execution_count": 66,
      "outputs": []
    }
  ]
}