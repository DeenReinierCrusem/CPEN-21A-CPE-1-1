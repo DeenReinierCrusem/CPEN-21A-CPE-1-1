{
  "nbformat": 4,
  "nbformat_minor": 0,
  "metadata": {
    "colab": {
      "name": "Prelim Exam.ipynb",
      "provenance": [],
      "authorship_tag": "ABX9TyPlmQ31TERtGIsOiI42BSpE",
      "include_colab_link": true
    },
    "kernelspec": {
      "name": "python3",
      "display_name": "Python 3"
    },
    "language_info": {
      "name": "python"
    }
  },
  "cells": [
    {
      "cell_type": "markdown",
      "metadata": {
        "id": "view-in-github",
        "colab_type": "text"
      },
      "source": [
        "<a href=\"https://colab.research.google.com/github/DeenReinierCrusem/OOP-1-1/blob/main/Prelim_Exam.ipynb\" target=\"_parent\"><img src=\"https://colab.research.google.com/assets/colab-badge.svg\" alt=\"Open In Colab\"/></a>"
      ]
    },
    {
      "cell_type": "markdown",
      "source": [
        "Problem 1 (in codes)"
      ],
      "metadata": {
        "id": "tePXgv2wds9u"
      }
    },
    {
      "cell_type": "code",
      "execution_count": 164,
      "metadata": {
        "colab": {
          "base_uri": "https://localhost:8080/"
        },
        "id": "Xf_sXRr-4NCM",
        "outputId": "8211e1df-91d1-46f9-d53d-92ff37d2875d"
      },
      "outputs": [
        {
          "output_type": "stream",
          "name": "stdout",
          "text": [
            "sum= 0\n",
            "sum= 20\n",
            "sum= 39\n",
            "sum= 57\n",
            "sum= 74\n",
            "sum= 90\n",
            "sum= 105\n",
            "sum= 119\n",
            "sum= 132\n",
            "sum= 144\n",
            "sum= 155\n",
            "sum= 165\n",
            "sum= 174\n",
            "sum= 182\n",
            "sum= 189\n",
            "sum= 195\n",
            "sum= 200\n",
            "sum= 204\n",
            "sum= 207\n",
            "sum= 209\n",
            "sum= 210\n",
            "Average= 10.5\n"
          ]
        }
      ],
      "source": [
        "n=20\n",
        "while n>=0:\n",
        "  print(\"sum=\",sum)\n",
        "  sum+=n\n",
        "  n-=1\n",
        "  if sum == 21:\n",
        "    total_numbers=n\n",
        "    average=sum/total_numbers\n",
        "print(\"Average=\", average)\n"
      ]
    },
    {
      "cell_type": "markdown",
      "source": [
        "Problem 2"
      ],
      "metadata": {
        "id": "6NUILXhNdxId"
      }
    },
    {
      "cell_type": "code",
      "source": [
        "class myself:\n",
        "  def __init__(self,fullname,student_no,age,course,school):\n",
        "    self.fullname = fullname\n",
        "    self.student_no = student_no\n",
        "    self.age = age\n",
        "    self.course = course\n",
        "    self.school = school\n",
        "\n",
        "  def info(self):\n",
        "    print(\"My name is\",self.fullname) \n",
        "    print(\"My student number is\",self.student_no)\n",
        "    print(\"I am\",self.age,\"years of age\")\n",
        "    print(\"Taking the course\",self.course)\n",
        "    print(\"Currently studying at\",self.school)\n",
        "student = myself(\"Deen Reinier B. Crusem\", 202101495, 19, \"BSCpE\", \"CvSU\")\n",
        "student.info()"
      ],
      "metadata": {
        "colab": {
          "base_uri": "https://localhost:8080/"
        },
        "id": "SYdrf-hUJJJE",
        "outputId": "56476fdd-978b-4268-d2c2-a06e0a75c545"
      },
      "execution_count": 50,
      "outputs": [
        {
          "output_type": "stream",
          "name": "stdout",
          "text": [
            "My name is Deen Reinier B. Crusem\n",
            "My student number is 202101495\n",
            "I am 19 years of age\n",
            "Taking the course BSCpE\n",
            "Currently studying at CvSU\n"
          ]
        }
      ]
    }
  ]
}