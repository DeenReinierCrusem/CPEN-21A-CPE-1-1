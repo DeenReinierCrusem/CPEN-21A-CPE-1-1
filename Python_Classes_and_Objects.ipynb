{
  "nbformat": 4,
  "nbformat_minor": 0,
  "metadata": {
    "colab": {
      "name": "Python Classes and Objects.ipynb",
      "provenance": [],
      "collapsed_sections": [],
      "authorship_tag": "ABX9TyPeWE9johPvhrDUKXUnyfze",
      "include_colab_link": true
    },
    "kernelspec": {
      "name": "python3",
      "display_name": "Python 3"
    },
    "language_info": {
      "name": "python"
    }
  },
  "cells": [
    {
      "cell_type": "markdown",
      "metadata": {
        "id": "view-in-github",
        "colab_type": "text"
      },
      "source": [
        "<a href=\"https://colab.research.google.com/github/DeenReinierCrusem/OOP-1-1/blob/main/Python_Classes_and_Objects.ipynb\" target=\"_parent\"><img src=\"https://colab.research.google.com/assets/colab-badge.svg\" alt=\"Open In Colab\"/></a>"
      ]
    },
    {
      "cell_type": "markdown",
      "source": [
        "Application 1"
      ],
      "metadata": {
        "id": "MVULiBOczBbN"
      }
    },
    {
      "cell_type": "code",
      "source": [
        "class MyClass:\n",
        "  pass "
      ],
      "metadata": {
        "id": "GrTwJfZQ0qGC"
      },
      "execution_count": null,
      "outputs": []
    },
    {
      "cell_type": "code",
      "source": [
        "class MyClass:\n",
        "  def __init__(self,name,age):\n",
        "    self.name = name            #Create a class w/ attributes\n",
        "    self.age = age \n",
        "\n",
        "  def display(self):\n",
        "    print(self.name,self.age)\n",
        "\n",
        "person = MyClass(\"Crusem, Deen Reinier B.\", 19) #create an object name\n",
        "\n",
        "person.display()"
      ],
      "metadata": {
        "colab": {
          "base_uri": "https://localhost:8080/"
        },
        "id": "YKKIWMO_0uio",
        "outputId": "d99a29a4-d3c6-4304-b38f-714e7fc605ab"
      },
      "execution_count": 1,
      "outputs": [
        {
          "output_type": "stream",
          "name": "stdout",
          "text": [
            "Crusem, Deen Reinier B. 19\n"
          ]
        }
      ]
    },
    {
      "cell_type": "code",
      "source": [
        "#Application 1 - Write a Python program that computes for an area of rectangle: A =lxw\n",
        "\n",
        "class Rectangle:\n",
        "  def __init__(self,l,w):\n",
        "    self.l = l\n",
        "    self.w = w\n",
        "\n",
        "  def Area(self):\n",
        "    print(self.l * self.w)\n",
        "\n",
        "rect = Rectangle(7,3)\n",
        "rect.Area()"
      ],
      "metadata": {
        "colab": {
          "base_uri": "https://localhost:8080/"
        },
        "id": "ftP3KsyK3JbI",
        "outputId": "8072b5b7-0a41-4bfc-87ed-db171b8988ea"
      },
      "execution_count": 3,
      "outputs": [
        {
          "output_type": "stream",
          "name": "stdout",
          "text": [
            "21\n"
          ]
        }
      ]
    }
  ]
}