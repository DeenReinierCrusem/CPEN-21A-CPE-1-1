{
  "nbformat": 4,
  "nbformat_minor": 0,
  "metadata": {
    "colab": {
      "name": "Application 3.ipynb",
      "provenance": [],
      "authorship_tag": "ABX9TyMLlbqDx+HlPG+ttCQrx9jg",
      "include_colab_link": true
    },
    "kernelspec": {
      "name": "python3",
      "display_name": "Python 3"
    },
    "language_info": {
      "name": "python"
    }
  },
  "cells": [
    {
      "cell_type": "markdown",
      "metadata": {
        "id": "view-in-github",
        "colab_type": "text"
      },
      "source": [
        "<a href=\"https://colab.research.google.com/github/DeenReinierCrusem/OOP-1-1/blob/main/Application_3.ipynb\" target=\"_parent\"><img src=\"https://colab.research.google.com/assets/colab-badge.svg\" alt=\"Open In Colab\"/></a>"
      ]
    },
    {
      "cell_type": "markdown",
      "source": [
        "Application 3 - Define an Area() method of the class circle that calculates the circle's area. Define a perimeter() method of the class which allows you to calculate the perimeter of the circle"
      ],
      "metadata": {
        "id": "z6gGHPRj8FUS"
      }
    },
    {
      "cell_type": "code",
      "source": [
        "class circle: \n",
        "  def __init__(self,pi,radius):\n",
        "    self.pi = pi\n",
        "    self.radius = radius\n",
        "\n",
        "  def Area(self):\n",
        "    print(self.pi*self.radius*self.radius)  #radius is squared\n",
        "\n",
        "bilog = circle(3.14,7)\n",
        "bilog.Area()\n",
        "                  \n"
      ],
      "metadata": {
        "colab": {
          "base_uri": "https://localhost:8080/"
        },
        "id": "iD1ld2gz8HW3",
        "outputId": "21bcc0fd-dede-4328-8548-03a25f4951c6"
      },
      "execution_count": 6,
      "outputs": [
        {
          "output_type": "stream",
          "name": "stdout",
          "text": [
            "153.86\n"
          ]
        }
      ]
    },
    {
      "cell_type": "code",
      "source": [
        "class circle: \n",
        "  def __init__(self,pi,radius):\n",
        "    self.pi = pi\n",
        "    self.radius = radius\n",
        "\n",
        "  def perimeter(self):\n",
        "    print(2*self.pi*self.radius)  \n",
        "\n",
        "bilog = circle(3.14,7)\n",
        "bilog.perimeter()\n",
        "                  "
      ],
      "metadata": {
        "colab": {
          "base_uri": "https://localhost:8080/"
        },
        "id": "o-qc6aEPAV1X",
        "outputId": "8843e440-0422-4471-ad71-443161d59899"
      },
      "execution_count": 8,
      "outputs": [
        {
          "output_type": "stream",
          "name": "stdout",
          "text": [
            "43.96\n"
          ]
        }
      ]
    }
  ]
}