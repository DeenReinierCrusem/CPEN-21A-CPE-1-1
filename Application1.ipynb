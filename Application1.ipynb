{
  "nbformat": 4,
  "nbformat_minor": 0,
  "metadata": {
    "colab": {
      "name": "Untitled1.ipynb",
      "provenance": [],
      "include_colab_link": true
    },
    "kernelspec": {
      "name": "python3",
      "display_name": "Python 3"
    },
    "language_info": {
      "name": "python"
    }
  },
  "cells": [
    {
      "cell_type": "markdown",
      "metadata": {
        "id": "view-in-github",
        "colab_type": "text"
      },
      "source": [
        "<a href=\"https://colab.research.google.com/github/DeenReinierCrusem/OOP-1-1/blob/main/Application1.ipynb\" target=\"_parent\"><img src=\"https://colab.research.google.com/assets/colab-badge.svg\" alt=\"Open In Colab\"/></a>"
      ]
    },
    {
      "cell_type": "markdown",
      "source": [
        "Application 1"
      ],
      "metadata": {
        "id": "YWlYnk9pickZ"
      }
    },
    {
      "cell_type": "code",
      "source": [
        "class Person:\n",
        "  def __init__(self,std1,std2,std3):\n",
        "    self.std1=std1\n",
        "    self.std2=std2\n",
        "    self.std3=std3\n",
        "  def student1(self):\n",
        "    print(self.std1)\n",
        "  def student2(self):\n",
        "    print(self.std2)\n",
        "  def student3(self):\n",
        "    print(self.std3)\n",
        "class attributes:\n",
        "  def __init__(self,pre,mid,fin):\n",
        "    self.pre=pre\n",
        "    self.mid=mid\n",
        "    self.fin=fin\n",
        "  def grade(self):\n",
        "    print(self.pre,self.mid,self.fin)\n",
        "class average(attributes):\n",
        "  def Grade(self):\n",
        "    return round((self.pre+self.mid+self.fin)/3,2)\n",
        "  \n",
        "\n",
        "person=Person(\"Deen Reinier Crusem\", \"Gabriel Catanaoan\", \"Trisha Faye Cueno\")\n",
        "person.student1()\n",
        "stud1=average((int(input(\"prelim:\"))), (int(input(\"midterm:\"))), (int(input(\"finals:\"))))\n",
        "print(\"Average:\",stud1.Grade())\n",
        "\n",
        "class Student2(Person):\n",
        "  pass\n",
        "\n",
        "person2=Student2(\"Deen Reinier Crusem\", \"Gabriel Catanaoan\", \"Trisha Faye Cueno\")\n",
        "person2.student2()\n",
        "stud2=average((int(input(\"prelim:\"))), (int(input(\"midterm:\"))), (int(input(\"finals:\"))))\n",
        "print(\"Average:\",stud2.Grade())\n",
        "\n",
        "\n",
        "class Student3(Person):\n",
        "  pass\n",
        "\n",
        "person3=Student3(\"Deen Reinier Crusem\", \"Gabriel Catanaoan\", \"Trisha Faye Cueno\")\n",
        "person3.student3()\n",
        "stud3=average((int(input(\"prelim:\"))), (int(input(\"midterm:\"))), (int(input(\"finals:\"))))\n",
        "print(\"Average:\",stud3.Grade())\n"
      ],
      "metadata": {
        "id": "yu6uD4FqyuUJ",
        "outputId": "6bbd96f4-7915-4a00-c861-6e94466f08d8",
        "colab": {
          "base_uri": "https://localhost:8080/"
        }
      },
      "execution_count": 2,
      "outputs": [
        {
          "output_type": "stream",
          "name": "stdout",
          "text": [
            "Deen Reinier Crusem\n",
            "prelim:92\n",
            "midterm:100\n",
            "finals:100\n",
            "Average: 97.33\n",
            "Gabriel Catanaoan\n",
            "prelim:100\n",
            "midterm:100\n",
            "finals:100\n",
            "Average: 100.0\n",
            "Trisha Faye Cueno\n",
            "prelim:90\n",
            "midterm:100\n",
            "finals:100\n",
            "Average: 96.67\n"
          ]
        }
      ]
    }
  ]
}